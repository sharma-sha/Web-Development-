{
 "cells": [
  {
   "cell_type": "code",
   "execution_count": 1,
   "id": "ac0e2186",
   "metadata": {},
   "outputs": [],
   "source": [
    "import pickle"
   ]
  },
  {
   "cell_type": "code",
   "execution_count": 2,
   "id": "662ed22b",
   "metadata": {},
   "outputs": [],
   "source": [
    "#recheck model\n",
    "loaded_model=pickle.load(open(\"finalized_model_LogisticRegression.sav\",'rb'))\n",
    "result=loaded_model"
   ]
  }
 ],
 "metadata": {
  "kernelspec": {
   "display_name": "Python 3 (ipykernel)",
   "language": "python",
   "name": "python3"
  },
  "language_info": {
   "codemirror_mode": {
    "name": "ipython",
    "version": 3
   },
   "file_extension": ".py",
   "mimetype": "text/x-python",
   "name": "python",
   "nbconvert_exporter": "python",
   "pygments_lexer": "ipython3",
   "version": "3.10.15"
  }
 },
 "nbformat": 4,
 "nbformat_minor": 5
}
